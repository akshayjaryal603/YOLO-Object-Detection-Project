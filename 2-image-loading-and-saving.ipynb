{
 "cells": [
  {
   "cell_type": "markdown",
   "metadata": {},
   "source": [
    "Getting Started in OpenCV\n",
    "===\n",
    "\n",
    "## Reading an Image\n",
    "\n",
    "We use the function `cv2.imread()` to read an image."
   ]
  },
  {
   "cell_type": "code",
   "execution_count": 23,
   "metadata": {},
   "outputs": [],
   "source": [
    "import cv2\n",
    "import numpy as np"
   ]
  },
  {
   "cell_type": "code",
   "execution_count": 35,
   "metadata": {},
   "outputs": [
    {
     "name": "stdout",
     "output_type": "stream",
     "text": [
      "<class 'numpy.ndarray'>\n",
      "[[[141 158 167]\n",
      "  [142 159 168]\n",
      "  [142 159 168]\n",
      "  ...\n",
      "  [ 13  23  41]\n",
      "  [ 13  21  44]\n",
      "  [ 13  21  44]]\n",
      "\n",
      " [[142 159 168]\n",
      "  [143 160 169]\n",
      "  [143 160 169]\n",
      "  ...\n",
      "  [ 21  31  49]\n",
      "  [ 14  22  45]\n",
      "  [ 14  22  45]]\n",
      "\n",
      " [[144 161 170]\n",
      "  [144 161 170]\n",
      "  [145 162 171]\n",
      "  ...\n",
      "  [ 12  22  40]\n",
      "  [ 15  23  46]\n",
      "  [ 15  23  46]]\n",
      "\n",
      " ...\n",
      "\n",
      " [[133 142 151]\n",
      "  [131 140 149]\n",
      "  [129 138 147]\n",
      "  ...\n",
      "  [146 145 141]\n",
      "  [142 141 137]\n",
      "  [142 141 137]]\n",
      "\n",
      " [[138 147 156]\n",
      "  [136 145 154]\n",
      "  [135 144 153]\n",
      "  ...\n",
      "  [111 110 106]\n",
      "  [132 131 127]\n",
      "  [132 131 127]]\n",
      "\n",
      " [[142 151 160]\n",
      "  [141 150 159]\n",
      "  [140 149 158]\n",
      "  ...\n",
      "  [140 139 135]\n",
      "  [136 135 131]\n",
      "  [136 135 131]]]\n"
     ]
    },
    {
     "data": {
      "text/plain": [
       "(366, 650, 3)"
      ]
     },
     "execution_count": 35,
     "metadata": {},
     "output_type": "execute_result"
    }
   ],
   "source": [
    "# first argument is the image to load\n",
    "# second argument is the color of the image\n",
    "    # cv2.IMREAD_COLOR loads a color image\n",
    "    # cv2.IMREAD_GRAYSCALE loads image in grayscale\n",
    "#image = cv2.imread('image02.jpg', cv2.IMREAD_COLOR)\n",
    "image = cv2.imread('image02.jpg', 1)\n",
    "print(type(image))\n",
    "img = cv2.imread('image02.jpg', 0)\n",
    "print(image)\n",
    "img.shape\n",
    "image.shape"
   ]
  },
  {
   "cell_type": "markdown",
   "metadata": {},
   "source": [
    "## Displaying an Image\n",
    "\n",
    "We use the function `cv2.imshow()` to display an image."
   ]
  },
  {
   "cell_type": "code",
   "execution_count": 36,
   "metadata": {},
   "outputs": [],
   "source": [
    "cv2.imshow('image', img)\n",
    "cv2.imshow('image',image)\n",
    "cv2.waitKey(0)\n",
    "cv2.destroyAllWindows()"
   ]
  },
  {
   "cell_type": "markdown",
   "metadata": {},
   "source": [
    "`cv2.waitKey()` is a keyboard binding function, which means it waits for a specified amount of time (in milliseconds) for any keyboard event. If any key was pressed within the time, the program continues. If `0` is passed, it waits indefinitely.\n",
    "\n",
    "`cv2.destroyAllWindows()` destroys all windows created. To destroy a specific window, use `cv2.destroyWindow()` with the window name passed as an argument."
   ]
  },
  {
   "cell_type": "code",
   "execution_count": 29,
   "metadata": {},
   "outputs": [],
   "source": [
    "cv2.namedWindow('image', cv2.WINDOW_NORMAL)\n",
    "cv2.imshow('image', image)\n",
    "cv2.waitKey(0)\n",
    "cv2.destroyWindow('image')"
   ]
  },
  {
   "cell_type": "markdown",
   "metadata": {},
   "source": [
    "`cv2.namedWindow()` creates a window where an image may be loaded. The window may be specified to be resizable or not. The default flag is `cv2.WINDOW_AUTOSIZE`. Meanwhile, if you specify the flag as `cv2.WINDOW_NORMAL`, the window may be resizable."
   ]
  },
  {
   "cell_type": "code",
   "execution_count": 45,
   "metadata": {},
   "outputs": [],
   "source": [
    "# Black and White (gray scale)\n",
    " \n",
    "img = cv2.imread('image02.jpg',0)\n",
    " \n",
    "resized_image = cv2.resize(img, (300,300))\n",
    " \n",
    "cv2.imshow('image_greyscale', resized_image)\n",
    " \n",
    "cv2.waitKey(0)\n",
    " \n",
    "cv2.destroyAllWindows()"
   ]
  },
  {
   "cell_type": "code",
   "execution_count": 44,
   "metadata": {},
   "outputs": [],
   "source": [
    "#Resized_image = cv2.resize(img, int(img.shape[1]/2), int(img.shape[0]/2))\n"
   ]
  },
  {
   "cell_type": "markdown",
   "metadata": {},
   "source": [
    "## Writing an Image\n",
    "\n",
    "We use the function `cv2.imwrite()` to save an image.\n",
    "\n",
    "First argument is the file name, while the second is the image to be saved."
   ]
  },
  {
   "cell_type": "code",
   "execution_count": 18,
   "metadata": {},
   "outputs": [
    {
     "data": {
      "text/plain": [
       "True"
      ]
     },
     "execution_count": 18,
     "metadata": {},
     "output_type": "execute_result"
    }
   ],
   "source": [
    "image = cv2.imread('image02.jpg', cv2.IMREAD_GRAYSCALE)\n",
    "cv2.imwrite('image02_grayscale.jpg', image)"
   ]
  },
  {
   "cell_type": "markdown",
   "metadata": {},
   "source": [
    "## Summary\n",
    "\n",
    "Let us load our image in grayscale, display it, then save it."
   ]
  },
  {
   "cell_type": "code",
   "execution_count": 19,
   "metadata": {},
   "outputs": [],
   "source": [
    "image = cv2.imread('image02.jpg', cv2.IMREAD_GRAYSCALE)\n",
    "cv2.imshow('image', image)\n",
    "\n",
    "k = cv2.waitKey(0)\n",
    "\n",
    "if k == 27:    # wait for ESC to exit\n",
    "    cv2.destroyAllWindows()\n",
    "elif k == ord('s'):    # wait for 's' key to save and exit\n",
    "    cv2.imwrite('image02.jpg', image)\n",
    "    cv2.destroyAllWindows()"
   ]
  },
  {
   "cell_type": "markdown",
   "metadata": {},
   "source": [
    "## Video in OpenCV\n",
    "\n",
    "### Capture Video from Camera\n",
    "\n",
    "To capture a video, we need to create a `cv2.VideoCapture` object. The argument for this may be the device index or the name of a video file."
   ]
  },
  {
   "cell_type": "code",
   "execution_count": 1,
   "metadata": {},
   "outputs": [],
   "source": [
    "import cv2\n",
    "import numpy as np\n",
    "\n",
    "cap = cv2.VideoCapture(0)\n",
    "n=0\n",
    "while n<500:                  #capture video for 500 milliseconds\n",
    "    \n",
    "    _, frame = cap.read()\n",
    "    \n",
    "    cv2.imshow('webcam', frame)\n",
    "    \n",
    "    if cv2.waitKey(1) == 5:\n",
    "        break\n",
    "    n=n+1\n",
    "        \n",
    "cap.release()\n",
    "cv2.destroyAllWindows()"
   ]
  }
 ],
 "metadata": {
  "kernelspec": {
   "display_name": "Python 3",
   "language": "python",
   "name": "python3"
  },
  "language_info": {
   "codemirror_mode": {
    "name": "ipython",
    "version": 3
   },
   "file_extension": ".py",
   "mimetype": "text/x-python",
   "name": "python",
   "nbconvert_exporter": "python",
   "pygments_lexer": "ipython3",
   "version": "3.7.3"
  }
 },
 "nbformat": 4,
 "nbformat_minor": 2
}
